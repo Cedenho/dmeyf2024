{
 "cells": [
  {
   "cell_type": "code",
   "execution_count": 1,
   "metadata": {},
   "outputs": [],
   "source": [
    "import pandas as pd\n",
    "import numpy as np"
   ]
  },
  {
   "cell_type": "markdown",
   "metadata": {},
   "source": [
    "Traer los datos y crear una copia"
   ]
  },
  {
   "cell_type": "code",
   "execution_count": 35,
   "metadata": {},
   "outputs": [
    {
     "name": "stderr",
     "output_type": "stream",
     "text": [
      "C:\\Users\\Aleja\\AppData\\Local\\Temp\\ipykernel_17360\\297389365.py:1: DtypeWarning: Columns (153) have mixed types. Specify dtype option on import or set low_memory=False.\n",
      "  datos = pd.read_csv(\"C:/Users/Aleja/Documents/Maestria/DMEyF/datasets/competencia_01.csv\")\n"
     ]
    }
   ],
   "source": [
    "\n",
    "datos = pd.read_csv(\"C:/Users/Aleja/Documents/Maestria/DMEyF/datasets/competencia_01.csv\")\n",
    "datosO = datos.copy()"
   ]
  },
  {
   "cell_type": "markdown",
   "metadata": {},
   "source": [
    "Agregar dos columnas \n"
   ]
  },
  {
   "cell_type": "code",
   "execution_count": 36,
   "metadata": {},
   "outputs": [],
   "source": [
    "datos['mes_-1'] = datos['foto_mes'] - 1\n",
    "datos['mes_-2'] = datos['foto_mes'] - 2"
   ]
  },
  {
   "cell_type": "markdown",
   "metadata": {},
   "source": [
    "Hacer join para traer el primer lag"
   ]
  },
  {
   "cell_type": "code",
   "execution_count": 37,
   "metadata": {},
   "outputs": [],
   "source": [
    "combinacion = pd.merge(datos, datosO, left_on=['numero_de_cliente','mes_-1'], right_on=['numero_de_cliente','foto_mes'], how = 'left')"
   ]
  },
  {
   "cell_type": "markdown",
   "metadata": {},
   "source": [
    "Segundo lag"
   ]
  },
  {
   "cell_type": "code",
   "execution_count": 38,
   "metadata": {},
   "outputs": [],
   "source": [
    "combinacion = pd.merge(combinacion, datosO, left_on=['numero_de_cliente','mes_-2'], right_on=['numero_de_cliente','foto_mes'], how = 'left')"
   ]
  },
  {
   "cell_type": "markdown",
   "metadata": {},
   "source": [
    "Eliminar columnas"
   ]
  },
  {
   "cell_type": "code",
   "execution_count": 39,
   "metadata": {},
   "outputs": [],
   "source": [
    "combinacion = combinacion.drop(columns=['foto_mes', 'foto_mes_y','mes_-1','mes_-2','clase_ternaria_y','clase_ternaria','Unnamed: 0_x', 'Unnamed: 0_y', 'Unnamed: 0'])"
   ]
  },
  {
   "cell_type": "markdown",
   "metadata": {},
   "source": [
    "Actualizar nombre"
   ]
  },
  {
   "cell_type": "code",
   "execution_count": 40,
   "metadata": {},
   "outputs": [],
   "source": [
    "combinacion = combinacion.rename(columns={'foto_mes_x': 'foto_mes', 'clase_ternaria_x': 'clase_ternaria'})"
   ]
  },
  {
   "cell_type": "markdown",
   "metadata": {},
   "source": [
    "Crear excel"
   ]
  },
  {
   "cell_type": "code",
   "execution_count": 42,
   "metadata": {},
   "outputs": [],
   "source": [
    "combinacion.to_csv(\"C:/Users/Aleja/Documents/Maestria/DMEyF/datasets/competencia_01_Lag.csv\")"
   ]
  },
  {
   "cell_type": "code",
   "execution_count": 43,
   "metadata": {},
   "outputs": [
    {
     "name": "stdout",
     "output_type": "stream",
     "text": [
      "Columnas con caracteres especiales: []\n"
     ]
    }
   ],
   "source": [
    "import re\n",
    "\n",
    "special_chars = re.compile(r'[^a-zA-Z0-9_]')\n",
    "columns_with_special_chars = [col for col in combinacion.columns if special_chars.search(col)]\n",
    "print(\"Columnas con caracteres especiales:\", columns_with_special_chars)"
   ]
  },
  {
   "cell_type": "markdown",
   "metadata": {},
   "source": [
    "Segunda parte, crear variaciones entre lag principal x, vs las otras dos"
   ]
  },
  {
   "cell_type": "code",
   "execution_count": 3,
   "metadata": {},
   "outputs": [
    {
     "name": "stderr",
     "output_type": "stream",
     "text": [
      "C:\\Users\\Aleja\\AppData\\Local\\Temp\\ipykernel_3492\\3381455286.py:2: DtypeWarning: Columns (153) have mixed types. Specify dtype option on import or set low_memory=False.\n",
      "  datos_lag = pd.read_csv(\"C:/Users/Aleja/Documents/Maestria/DMEyF/datasets/competencia_01_Lag.csv\")\n"
     ]
    }
   ],
   "source": [
    "###leer el archivo\n",
    "datos_lag = pd.read_csv(\"C:/Users/Aleja/Documents/Maestria/DMEyF/datasets/competencia_01_Lag.csv\")"
   ]
  },
  {
   "cell_type": "code",
   "execution_count": 4,
   "metadata": {},
   "outputs": [],
   "source": [
    "##Master\n",
    "datos_lag['delta_Master_mlimitecompra_1'] = datos_lag['Master_mlimitecompra_x'].fillna(0) - datos_lag['Master_mlimitecompra_y'].fillna(0)\n",
    "datos_lag['delta_Master_mlimitecompra_2'] = datos_lag['Master_mlimitecompra_x'].fillna(0) - datos_lag['Master_mlimitecompra'].fillna(0)"
   ]
  },
  {
   "cell_type": "code",
   "execution_count": 7,
   "metadata": {},
   "outputs": [],
   "source": [
    "##Visa\n",
    "datos_lag['delta_Visa_mlimitecompra_1'] = datos_lag['Visa_mlimitecompra_x'].fillna(0) - datos_lag['Visa_mlimitecompra_y'].fillna(0)\n",
    "datos_lag['delta_Visa_mlimitecompra_2'] = datos_lag['Visa_mlimitecompra_x'].fillna(0) - datos_lag['Visa_mlimitecompra'].fillna(0)"
   ]
  },
  {
   "cell_type": "code",
   "execution_count": 9,
   "metadata": {},
   "outputs": [],
   "source": [
    "##saldo\n",
    "datos_lag['delta_mcuentas_saldo_1'] = datos_lag['mcuentas_saldo_x'].fillna(0) - datos_lag['mcuentas_saldo_y'].fillna(0)\n",
    "datos_lag['delta_mcuentas_saldo_2'] = datos_lag['mcuentas_saldo_x'].fillna(0) - datos_lag['mcuentas_saldo'].fillna(0)"
   ]
  },
  {
   "cell_type": "code",
   "execution_count": 10,
   "metadata": {},
   "outputs": [],
   "source": [
    "##empleador\n",
    "datos_lag['mpayroll_total_x'] = datos_lag['mpayroll_x'].fillna(0) + datos_lag['mpayroll2_x'].fillna(0)\n",
    "datos_lag['mpayroll_total_y'] = datos_lag['mpayroll_y'].fillna(0) + datos_lag['mpayroll2_y'].fillna(0)\n",
    "datos_lag['mpayroll_total'] = datos_lag['mpayroll'].fillna(0) + datos_lag['mpayroll2'].fillna(0)"
   ]
  },
  {
   "cell_type": "code",
   "execution_count": 11,
   "metadata": {},
   "outputs": [],
   "source": [
    "##delta de empleador\n",
    "datos_lag['delta_mpayroll_total_1'] = datos_lag['mpayroll_total_x'].fillna(0) - datos_lag['mpayroll_total_y'].fillna(0)\n",
    "datos_lag['delta_mpayroll_total_2'] = datos_lag['mpayroll_total_x'].fillna(0) - datos_lag['mpayroll_total'].fillna(0)"
   ]
  },
  {
   "cell_type": "code",
   "execution_count": 12,
   "metadata": {},
   "outputs": [],
   "source": [
    "##descuentos master\n",
    "datos_lag['delta_mtarjeta_master_descuentos_1'] = datos_lag['mtarjeta_master_descuentos_x'].fillna(0) - datos_lag['mtarjeta_master_descuentos_y'].fillna(0)\n",
    "datos_lag['delta_mtarjeta_master_descuentos_2'] = datos_lag['mtarjeta_master_descuentos_x'].fillna(0) - datos_lag['mtarjeta_master_descuentos'].fillna(0)"
   ]
  },
  {
   "cell_type": "code",
   "execution_count": 13,
   "metadata": {},
   "outputs": [],
   "source": [
    "##descuentos visa\n",
    "datos_lag['delta_mtarjeta_visa_descuentos_1'] = datos_lag['mtarjeta_visa_descuentos_x'].fillna(0) - datos_lag['mtarjeta_visa_descuentos_y'].fillna(0)\n",
    "datos_lag['delta_mtarjeta_visa_descuentos_2'] = datos_lag['mtarjeta_visa_descuentos_x'].fillna(0) - datos_lag['mtarjeta_visa_descuentos'].fillna(0)"
   ]
  },
  {
   "cell_type": "code",
   "execution_count": 15,
   "metadata": {},
   "outputs": [],
   "source": [
    "##rentabilidad\n",
    "datos_lag['delta_mrentabilidad_1'] = datos_lag['mrentabilidad_x'].fillna(0) - datos_lag['mrentabilidad_y'].fillna(0)\n",
    "datos_lag['delta_mrentabilidad_2'] = datos_lag['mrentabilidad_x'].fillna(0) - datos_lag['mrentabilidad'].fillna(0)"
   ]
  },
  {
   "cell_type": "code",
   "execution_count": 17,
   "metadata": {},
   "outputs": [],
   "source": [
    "#comisiones\n",
    "datos_lag['delta_mcomisiones_otras_1'] = datos_lag['mcomisiones_otras_x'].fillna(0) - datos_lag['mcomisiones_otras_y'].fillna(0)\n",
    "datos_lag['delta_mcomisiones_otras_2'] = datos_lag['mcomisiones_otras_x'].fillna(0) - datos_lag['mcomisiones_otras'].fillna(0)"
   ]
  },
  {
   "cell_type": "code",
   "execution_count": 19,
   "metadata": {},
   "outputs": [],
   "source": [
    "#eliminar columna rara\n",
    "datos_lag = datos_lag.drop(columns=['Unnamed: 0'])"
   ]
  },
  {
   "cell_type": "code",
   "execution_count": 21,
   "metadata": {},
   "outputs": [],
   "source": [
    "datos_lag.to_csv(\"C:/Users/Aleja/Documents/Maestria/DMEyF/datasets/competencia_01_Lag_delta.csv\")"
   ]
  }
 ],
 "metadata": {
  "kernelspec": {
   "display_name": "Python 3",
   "language": "python",
   "name": "python3"
  },
  "language_info": {
   "codemirror_mode": {
    "name": "ipython",
    "version": 3
   },
   "file_extension": ".py",
   "mimetype": "text/x-python",
   "name": "python",
   "nbconvert_exporter": "python",
   "pygments_lexer": "ipython3",
   "version": "3.12.5"
  }
 },
 "nbformat": 4,
 "nbformat_minor": 2
}
