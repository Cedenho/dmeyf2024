{
 "cells": [
  {
   "cell_type": "markdown",
   "metadata": {},
   "source": [
    "Importar la librerias y el archivo"
   ]
  },
  {
   "cell_type": "code",
   "execution_count": 2,
   "metadata": {},
   "outputs": [],
   "source": [
    "import pandas as pd\n",
    "import numpy as np\n",
    "\n",
    "###leer archivo de excel\n",
    "datos = pd.read_csv(\"C:/Users/Aleja/Documents/Maestria/DMEyF/DMEyF2024/Competencia_03/competencia_03_crudo.csv.gz\")\n",
    "datosO = datos.copy()"
   ]
  },
  {
   "cell_type": "markdown",
   "metadata": {},
   "source": [
    "Agregar nueva columna de fecha"
   ]
  },
  {
   "cell_type": "code",
   "execution_count": 4,
   "metadata": {},
   "outputs": [],
   "source": [
    "# Convertir la columna periodo a fecha\n",
    "datos['fecha'] = pd.to_datetime(datos['foto_mes'], format='%Y%m')\n",
    "\n",
    "# calcular los meses siguientes\n",
    "datos['mes_1'] = (datos['fecha'] + pd.DateOffset(months=1)).dt.strftime('%Y%m').astype(int)\n",
    "datos['mes_2'] = (datos['fecha'] + pd.DateOffset(months=2)).dt.strftime('%Y%m').astype(int)"
   ]
  },
  {
   "cell_type": "markdown",
   "metadata": {},
   "source": [
    "Hacer los cruces respectivos"
   ]
  },
  {
   "cell_type": "code",
   "execution_count": 5,
   "metadata": {},
   "outputs": [],
   "source": [
    "###dejar solo dos columnas del dataset2\n",
    "datosO = datosO[['numero_de_cliente','foto_mes']]\n",
    "\n",
    "###hacer los cruces\n",
    "combinacion = pd.merge(datos, datosO, left_on=['numero_de_cliente','mes_1'], right_on=['numero_de_cliente','foto_mes'], how = 'left')\n",
    "combinacion = pd.merge(combinacion, datosO, left_on=['numero_de_cliente','mes_2'], right_on=['numero_de_cliente','foto_mes'], how = 'left')\n"
   ]
  },
  {
   "cell_type": "markdown",
   "metadata": {},
   "source": [
    "Crear clase ternaria"
   ]
  },
  {
   "cell_type": "code",
   "execution_count": 7,
   "metadata": {},
   "outputs": [],
   "source": [
    "condiciones = [\n",
    "    (combinacion['foto_mes_y']>0) & (combinacion['foto_mes']>0),\n",
    "    (combinacion['foto_mes_y']>0) & (combinacion['foto_mes'].isnull()) & (combinacion['foto_mes_x'] != 202108),\n",
    "    (combinacion['foto_mes_y'].isnull()) & (combinacion['foto_mes'].isnull()) & (combinacion['foto_mes_x'] != 202109),\n",
    "    (combinacion['foto_mes_y'].isnull()) & (combinacion['foto_mes']>0)\n",
    "]\n",
    "\n",
    "respuesta = ['CONTINUA', 'BAJA+2', 'BAJA+1', 'CONTINUA']\n",
    "\n",
    "combinacion['clase_ternaria'] = np.select(condiciones, respuesta, default = '')"
   ]
  },
  {
   "cell_type": "markdown",
   "metadata": {},
   "source": [
    "Eliminar columnas, renombrar columna"
   ]
  },
  {
   "cell_type": "code",
   "execution_count": 8,
   "metadata": {},
   "outputs": [],
   "source": [
    "###eliminar columnas\n",
    "combinacion = combinacion.drop(columns=['foto_mes', 'foto_mes_y','mes_1','mes_2','fecha'])\n",
    "\n",
    "###actualizar el nombre de una columna\n",
    "combinacion = combinacion.rename(columns={'foto_mes_x': 'foto_mes'})\n"
   ]
  },
  {
   "cell_type": "markdown",
   "metadata": {},
   "source": [
    "Revisar"
   ]
  },
  {
   "cell_type": "code",
   "execution_count": 14,
   "metadata": {},
   "outputs": [
    {
     "data": {
      "text/plain": [
       "foto_mes  clase_ternaria\n",
       "201901    BAJA+2               718\n",
       "          CONTINUA          123346\n",
       "201902    BAJA+2               688\n",
       "          CONTINUA          124391\n",
       "201903    BAJA+2               760\n",
       "                             ...  \n",
       "202106    CONTINUA          162894\n",
       "202107    BAJA+2              1294\n",
       "          CONTINUA          162783\n",
       "202108                      164146\n",
       "202109                      165644\n",
       "Length: 64, dtype: int64"
      ]
     },
     "execution_count": 14,
     "metadata": {},
     "output_type": "execute_result"
    }
   ],
   "source": [
    "c = combinacion.groupby(['foto_mes','clase_ternaria']).size()\n",
    "c"
   ]
  },
  {
   "cell_type": "markdown",
   "metadata": {},
   "source": [
    "Quitar los baja + 1"
   ]
  },
  {
   "cell_type": "code",
   "execution_count": 12,
   "metadata": {},
   "outputs": [],
   "source": [
    "combinacion = combinacion[combinacion['clase_ternaria'] != 'BAJA+1']"
   ]
  },
  {
   "cell_type": "code",
   "execution_count": 15,
   "metadata": {},
   "outputs": [],
   "source": [
    "combinacion.to_csv(\"C:/Users/Aleja/Documents/Maestria/DMEyF/DMEyF2024/Competencia_03/dataset_SinBAJA1C3.csv.gz\", index = False)"
   ]
  }
 ],
 "metadata": {
  "kernelspec": {
   "display_name": "Python 3",
   "language": "python",
   "name": "python3"
  },
  "language_info": {
   "codemirror_mode": {
    "name": "ipython",
    "version": 3
   },
   "file_extension": ".py",
   "mimetype": "text/x-python",
   "name": "python",
   "nbconvert_exporter": "python",
   "pygments_lexer": "ipython3",
   "version": "3.12.5"
  }
 },
 "nbformat": 4,
 "nbformat_minor": 2
}
