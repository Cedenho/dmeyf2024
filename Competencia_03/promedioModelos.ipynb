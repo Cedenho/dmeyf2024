{
 "cells": [
  {
   "cell_type": "code",
   "execution_count": 22,
   "metadata": {},
   "outputs": [],
   "source": [
    "import pandas as pd\n",
    "import numpy as np\n",
    "from google.cloud import storage\n",
    "from google.oauth2 import service_account\n",
    "# Leer el contenido del archivo en un DataFrame\n",
    "from io import StringIO\n"
   ]
  },
  {
   "cell_type": "markdown",
   "metadata": {},
   "source": [
    "Cloud storage"
   ]
  },
  {
   "cell_type": "code",
   "execution_count": 23,
   "metadata": {},
   "outputs": [],
   "source": [
    "##credenciales de la clave en JSON\n",
    "credentials = service_account.Credentials.from_service_account_file(\n",
    "    r'C:\\Users\\Aleja\\Downloads\\synthetic-grail-436701-e3-d15e06e92eb5.JSON'\n",
    ")\n",
    "##Instancia\n",
    "client = storage.Client(credentials=credentials, project='synthetic-grail-436701')\n",
    "\n",
    "##nombre del bucket\n",
    "bucket_name = 'buko2810'"
   ]
  },
  {
   "cell_type": "code",
   "execution_count": 24,
   "metadata": {},
   "outputs": [],
   "source": [
    "##Accede al bucket\n",
    "bucket = client.get_bucket(bucket_name)\n",
    "\n",
    "##Ruta del archivo de busqueda\n",
    "rutaArchivo1 = \"expw227/SC-0004/tb_future_prediccion.txt\"\n",
    "rutaArchivo2 = \"expw227/SC-0005/tb_future_prediccion.txt\"\n",
    "rutaArchivo3 = \"expw227/SC-0006/tb_future_prediccion.txt\"\n",
    "rutaArchivo4 = \"expw227/SC-0007/tb_future_prediccion.txt\"\n",
    "rutaArchivo5 = \"expw227/SC-0008/tb_future_prediccion.txt\"\n",
    "rutaArchivo6 = \"expw227/SC-0009/tb_future_prediccion.txt\"\n",
    "rutaArchivo7 = \"expw227/SC-0010/tb_future_prediccion.txt\"\n",
    "##acceder al archivo\n",
    "blob1 = bucket.blob(rutaArchivo1)\n",
    "blob2 = bucket.blob(rutaArchivo2)\n",
    "blob3 = bucket.blob(rutaArchivo3)\n",
    "blob4 = bucket.blob(rutaArchivo4)\n",
    "blob5 = bucket.blob(rutaArchivo5)\n",
    "blob6 = bucket.blob(rutaArchivo6)\n",
    "blob7 = bucket.blob(rutaArchivo7)"
   ]
  },
  {
   "cell_type": "code",
   "execution_count": 25,
   "metadata": {},
   "outputs": [],
   "source": [
    "##Descargar el archivo y leer su contenido\n",
    "content1 = blob1.download_as_text()\n",
    "content2 = blob2.download_as_text()\n",
    "content3 = blob3.download_as_text()\n",
    "content4 = blob4.download_as_text()\n",
    "content5 = blob5.download_as_text()\n",
    "content6 = blob6.download_as_text()\n",
    "content7 = blob7.download_as_text()"
   ]
  },
  {
   "cell_type": "code",
   "execution_count": 26,
   "metadata": {},
   "outputs": [],
   "source": [
    "# Usamos StringIO para convertir el contenido descargado en un objeto como si fuera un archivo\n",
    "data1 = StringIO(content1)\n",
    "data2 = StringIO(content2)\n",
    "data3 = StringIO(content3)\n",
    "data4 = StringIO(content4)\n",
    "data5 = StringIO(content5)\n",
    "data6 = StringIO(content6)\n",
    "data7 = StringIO(content7)\n",
    "\n",
    "##guardar en un dataframe\n",
    "df1 = pd.read_table(data1)\n",
    "df2 = pd.read_table(data2)\n",
    "df3 = pd.read_table(data3)\n",
    "df4 = pd.read_table(data4)\n",
    "df5 = pd.read_table(data5)\n",
    "df6 = pd.read_table(data6)\n",
    "df7 = pd.read_table(data7)"
   ]
  },
  {
   "cell_type": "code",
   "execution_count": 33,
   "metadata": {},
   "outputs": [],
   "source": [
    "df1 = df1[['numero_de_cliente','foto_mes','sem_1_1']]\n",
    "df1 = df1.rename(columns={'sem_1_1': 'modelo1'})\n",
    "df2 = df2[['numero_de_cliente','foto_mes','sem_1_1']]\n",
    "df2 = df2.rename(columns={'sem_1_1': 'modelo2'})\n",
    "df3 = df3[['numero_de_cliente','foto_mes','sem_1_1']]\n",
    "df3 = df3.rename(columns={'sem_1_1': 'modelo3'})\n",
    "df4 = df4[['numero_de_cliente','foto_mes','sem_1_1']]\n",
    "df4 = df4.rename(columns={'sem_1_1': 'modelo4'})\n",
    "df5 = df5[['numero_de_cliente','foto_mes','sem_1_1']]\n",
    "df5 = df5.rename(columns={'sem_1_1': 'modelo5'})\n",
    "df6 = df6[['numero_de_cliente','foto_mes','sem_1_1']]\n",
    "df6 = df6.rename(columns={'sem_1_1': 'modelo6'})\n",
    "df7 = df7[['numero_de_cliente','foto_mes','sem_1_1']]\n",
    "df7 = df7.rename(columns={'sem_1_1': 'modelo7'})"
   ]
  },
  {
   "cell_type": "markdown",
   "metadata": {},
   "source": [
    "Hacer join entre las tablas"
   ]
  },
  {
   "cell_type": "code",
   "execution_count": 53,
   "metadata": {},
   "outputs": [],
   "source": [
    "combinacion = pd.merge(df1,df2, on = ['numero_de_cliente','foto_mes'])\n",
    "combinacion = pd.merge(combinacion,df3, on = ['numero_de_cliente','foto_mes'])\n",
    "combinacion = pd.merge(combinacion,df4, on = ['numero_de_cliente','foto_mes'])\n",
    "combinacion = pd.merge(combinacion,df5, on = ['numero_de_cliente','foto_mes'])\n",
    "combinacion = pd.merge(combinacion,df6, on = ['numero_de_cliente','foto_mes'])\n",
    "combinacion = pd.merge(combinacion,df7, on = ['numero_de_cliente','foto_mes'])"
   ]
  },
  {
   "cell_type": "code",
   "execution_count": 54,
   "metadata": {},
   "outputs": [],
   "source": [
    "##calcular el promedio\n",
    "combinacion['promedio'] = combinacion[['modelo1', 'modelo2', 'modelo3', 'modelo4', \n",
    "                     'modelo5', 'modelo6', 'modelo7']].median(axis=1)\n",
    "combinacion = combinacion.sort_values(by=['promedio'], ascending=False)\n",
    "##enumerar filas\n",
    "combinacion['enumeracion'] = range(1, len(combinacion) + 1)\n",
    "##las filas menores o iguales a 11000 ponerle 1\n",
    "combinacion['Predicted'] = np.where(combinacion['enumeracion'] <= 11000,\n",
    "                                    1,0)"
   ]
  },
  {
   "cell_type": "code",
   "execution_count": 56,
   "metadata": {},
   "outputs": [],
   "source": [
    "###crear CSV\n",
    "combinacion = combinacion[['numero_de_cliente','Predicted']]\n",
    "combinacion.to_csv(\"C:/Users/Aleja/Documents/Maestria/DMEyF/DMEyF2024/Competencia_03/Mediana11000.csv\", index = False)"
   ]
  }
 ],
 "metadata": {
  "kernelspec": {
   "display_name": "Python 3",
   "language": "python",
   "name": "python3"
  },
  "language_info": {
   "codemirror_mode": {
    "name": "ipython",
    "version": 3
   },
   "file_extension": ".py",
   "mimetype": "text/x-python",
   "name": "python",
   "nbconvert_exporter": "python",
   "pygments_lexer": "ipython3",
   "version": "3.12.5"
  }
 },
 "nbformat": 4,
 "nbformat_minor": 2
}
